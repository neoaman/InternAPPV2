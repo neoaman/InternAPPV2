{
 "cells": [
  {
   "cell_type": "code",
   "execution_count": 118,
   "metadata": {},
   "outputs": [],
   "source": [
    "import pandas as pd\n",
    "import numpy as np\n",
    "from ipywidgets import interact\n",
    "from sklearn.metrics import classification_report,confusion_matrix"
   ]
  },
  {
   "cell_type": "code",
   "execution_count": 14,
   "metadata": {},
   "outputs": [],
   "source": [
    "df = pd.read_csv(\"Data_Science_2020_v2.csv\")"
   ]
  },
  {
   "cell_type": "code",
   "execution_count": 15,
   "metadata": {},
   "outputs": [
    {
     "data": {
      "text/plain": [
       "Index(['Application_ID', 'Current City', 'Python (out of 3)',\n",
       "       'R Programming (out of 3)', 'Data Science (out of 3)', 'Other skills',\n",
       "       'Institute', 'Degree', 'Stream', 'Current Year Of Graduation',\n",
       "       'Performance_PG', 'Performance_UG', 'Performance_12', 'Performance_10'],\n",
       "      dtype='object')"
      ]
     },
     "execution_count": 15,
     "metadata": {},
     "output_type": "execute_result"
    }
   ],
   "source": [
    "df.columns"
   ]
  },
  {
   "cell_type": "code",
   "execution_count": 70,
   "metadata": {},
   "outputs": [],
   "source": [
    "oskills = {'Machine Learning',' Machine Learning','Deep Learning',' Deep Learning','Natural Language Processing (NLP)',' Natural Language Processing (NLP)','Amazon Web Services (AWS)',' Amazon Web Services (AWS)','Statistical Modeling',' Statistical Modeling','MS-Excel',' MS-Excel'}\n",
    "ugyear = {2020:10,2019:8}\n",
    "pgyear = {2020:7}\n",
    "rating = {3:10,2:7,1:3}\n",
    "totalscore = []\n",
    "skillsown = []\n",
    "for py,r,ds,osk,year,per in zip(df['Python (out of 3)'],df['R Programming (out of 3)'],df['Data Science (out of 3)'],df['Other skills'],df['Current Year Of Graduation'],df['Performance_PG']):\n",
    "    score = 0\n",
    "    skillscore = 0\n",
    "#     if per == 'missing':\n",
    "    score += ugyear.get(year,5)\n",
    "#     else:\n",
    "#         score += pgyear.get(year,3)\n",
    "    score += rating.get(py,0)\n",
    "    score += rating.get(r,0)\n",
    "    score += rating.get(ds,0)\n",
    "    try:\n",
    "        ownskill = osk.split(\",\")\n",
    "    except:\n",
    "        ownskill = \"none\"        \n",
    "    score += len(set(ownskill).intersection(oskills))*3\n",
    "    skillscore += len(set(ownskill).intersection(oskills))\n",
    "    if \"SQL\" in str(osk) or \"DB\" in str(osk):\n",
    "        score += 3\n",
    "        skillscore += 1\n",
    "    #print(score)\n",
    "    #print(skillscore*3)\n",
    "    totalscore.append(score)\n",
    "    skillsown.append(skillscore)\n",
    "\n",
    "#totalscore\n",
    "df['skillsown']=[i*3 for i in skillsown ]\n",
    "df['totalscore'] = totalscore\n",
    "df['Approval'] = ['Yes' if i >= 40 else 'No' for i in totalscore]"
   ]
  },
  {
   "cell_type": "code",
   "execution_count": 71,
   "metadata": {},
   "outputs": [],
   "source": [
    "df1 = df.head(20)"
   ]
  },
  {
   "cell_type": "code",
   "execution_count": 145,
   "metadata": {},
   "outputs": [
    {
     "data": {
      "text/plain": [
       "No     567\n",
       "Yes     44\n",
       "Name: Approval, dtype: int64"
      ]
     },
     "execution_count": 145,
     "metadata": {},
     "output_type": "execute_result"
    }
   ],
   "source": [
    "df.Approval.value_counts()"
   ]
  },
  {
   "cell_type": "markdown",
   "metadata": {},
   "source": [
    "## So out of all participants only 40 are approved for the next round "
   ]
  },
  {
   "cell_type": "code",
   "execution_count": 73,
   "metadata": {},
   "outputs": [],
   "source": [
    "df.to_csv('final.csv')"
   ]
  },
  {
   "cell_type": "markdown",
   "metadata": {},
   "source": [
    "# Model Building"
   ]
  },
  {
   "cell_type": "code",
   "execution_count": 74,
   "metadata": {},
   "outputs": [],
   "source": [
    "data = pd.read_csv('final.csv')"
   ]
  },
  {
   "cell_type": "code",
   "execution_count": 168,
   "metadata": {},
   "outputs": [],
   "source": [
    "df_s = data[['Python (out of 3)','R Programming (out of 3)','Data Science (out of 3)','Current Year Of Graduation','skillsown','Approval']]"
   ]
  },
  {
   "cell_type": "code",
   "execution_count": 78,
   "metadata": {},
   "outputs": [
    {
     "data": {
      "text/html": [
       "<div>\n",
       "<style scoped>\n",
       "    .dataframe tbody tr th:only-of-type {\n",
       "        vertical-align: middle;\n",
       "    }\n",
       "\n",
       "    .dataframe tbody tr th {\n",
       "        vertical-align: top;\n",
       "    }\n",
       "\n",
       "    .dataframe thead th {\n",
       "        text-align: right;\n",
       "    }\n",
       "</style>\n",
       "<table border=\"1\" class=\"dataframe\">\n",
       "  <thead>\n",
       "    <tr style=\"text-align: right;\">\n",
       "      <th></th>\n",
       "      <th>Python (out of 3)</th>\n",
       "      <th>R Programming (out of 3)</th>\n",
       "      <th>Data Science (out of 3)</th>\n",
       "      <th>Current Year Of Graduation</th>\n",
       "      <th>skillsown</th>\n",
       "      <th>Approval</th>\n",
       "    </tr>\n",
       "  </thead>\n",
       "  <tbody>\n",
       "    <tr>\n",
       "      <th>0</th>\n",
       "      <td>1</td>\n",
       "      <td>0</td>\n",
       "      <td>3</td>\n",
       "      <td>2019</td>\n",
       "      <td>6</td>\n",
       "      <td>No</td>\n",
       "    </tr>\n",
       "    <tr>\n",
       "      <th>1</th>\n",
       "      <td>2</td>\n",
       "      <td>1</td>\n",
       "      <td>2</td>\n",
       "      <td>2020</td>\n",
       "      <td>9</td>\n",
       "      <td>No</td>\n",
       "    </tr>\n",
       "    <tr>\n",
       "      <th>2</th>\n",
       "      <td>2</td>\n",
       "      <td>0</td>\n",
       "      <td>0</td>\n",
       "      <td>2018</td>\n",
       "      <td>0</td>\n",
       "      <td>No</td>\n",
       "    </tr>\n",
       "    <tr>\n",
       "      <th>3</th>\n",
       "      <td>2</td>\n",
       "      <td>0</td>\n",
       "      <td>2</td>\n",
       "      <td>2021</td>\n",
       "      <td>12</td>\n",
       "      <td>No</td>\n",
       "    </tr>\n",
       "    <tr>\n",
       "      <th>4</th>\n",
       "      <td>2</td>\n",
       "      <td>0</td>\n",
       "      <td>0</td>\n",
       "      <td>2018</td>\n",
       "      <td>6</td>\n",
       "      <td>No</td>\n",
       "    </tr>\n",
       "  </tbody>\n",
       "</table>\n",
       "</div>"
      ],
      "text/plain": [
       "   Python (out of 3)  R Programming (out of 3)  Data Science (out of 3)  \\\n",
       "0                  1                         0                        3   \n",
       "1                  2                         1                        2   \n",
       "2                  2                         0                        0   \n",
       "3                  2                         0                        2   \n",
       "4                  2                         0                        0   \n",
       "\n",
       "   Current Year Of Graduation  skillsown Approval  \n",
       "0                        2019          6       No  \n",
       "1                        2020          9       No  \n",
       "2                        2018          0       No  \n",
       "3                        2021         12       No  \n",
       "4                        2018          6       No  "
      ]
     },
     "execution_count": 78,
     "metadata": {},
     "output_type": "execute_result"
    }
   ],
   "source": [
    "df_s.head()"
   ]
  },
  {
   "cell_type": "code",
   "execution_count": 88,
   "metadata": {},
   "outputs": [],
   "source": [
    "from sklearn.preprocessing import MinMaxScaler\n",
    "from sklearn.model_selection import train_test_split\n",
    "from sklearn.tree import DecisionTreeClassifier\n",
    "from sklearn.ensemble import RandomForestClassifier\n",
    "from sklearn.model_selection import GridSearchCV\n",
    "from sklearn.utils import resample"
   ]
  },
  {
   "cell_type": "markdown",
   "metadata": {},
   "source": [
    "## Data Pre processing"
   ]
  },
  {
   "cell_type": "code",
   "execution_count": 84,
   "metadata": {},
   "outputs": [
    {
     "data": {
      "text/plain": [
       "Index(['Python (out of 3)', 'R Programming (out of 3)',\n",
       "       'Data Science (out of 3)', 'Current Year Of Graduation', 'skillsown',\n",
       "       'Approval'],\n",
       "      dtype='object')"
      ]
     },
     "execution_count": 84,
     "metadata": {},
     "output_type": "execute_result"
    }
   ],
   "source": [
    "df_s.columns[:]"
   ]
  },
  {
   "cell_type": "code",
   "execution_count": 82,
   "metadata": {},
   "outputs": [],
   "source": [
    "df_dummy = pd.get_dummies(df_s, columns=df_s.columns[:-1])"
   ]
  },
  {
   "cell_type": "code",
   "execution_count": 85,
   "metadata": {},
   "outputs": [],
   "source": [
    "df_dummy['Approval'] = df_s.Approval"
   ]
  },
  {
   "cell_type": "code",
   "execution_count": 146,
   "metadata": {},
   "outputs": [
    {
     "data": {
      "text/html": [
       "<div>\n",
       "<style scoped>\n",
       "    .dataframe tbody tr th:only-of-type {\n",
       "        vertical-align: middle;\n",
       "    }\n",
       "\n",
       "    .dataframe tbody tr th {\n",
       "        vertical-align: top;\n",
       "    }\n",
       "\n",
       "    .dataframe thead th {\n",
       "        text-align: right;\n",
       "    }\n",
       "</style>\n",
       "<table border=\"1\" class=\"dataframe\">\n",
       "  <thead>\n",
       "    <tr style=\"text-align: right;\">\n",
       "      <th></th>\n",
       "      <th>Approval</th>\n",
       "      <th>Python (out of 3)_0</th>\n",
       "      <th>Python (out of 3)_1</th>\n",
       "      <th>Python (out of 3)_2</th>\n",
       "      <th>Python (out of 3)_3</th>\n",
       "      <th>R Programming (out of 3)_0</th>\n",
       "      <th>R Programming (out of 3)_1</th>\n",
       "      <th>R Programming (out of 3)_2</th>\n",
       "      <th>R Programming (out of 3)_3</th>\n",
       "      <th>Data Science (out of 3)_0</th>\n",
       "      <th>...</th>\n",
       "      <th>Current Year Of Graduation_2021</th>\n",
       "      <th>Current Year Of Graduation_2022</th>\n",
       "      <th>Current Year Of Graduation_2023</th>\n",
       "      <th>skillsown_0</th>\n",
       "      <th>skillsown_3</th>\n",
       "      <th>skillsown_6</th>\n",
       "      <th>skillsown_9</th>\n",
       "      <th>skillsown_12</th>\n",
       "      <th>skillsown_15</th>\n",
       "      <th>skillsown_18</th>\n",
       "    </tr>\n",
       "  </thead>\n",
       "  <tbody>\n",
       "    <tr>\n",
       "      <th>0</th>\n",
       "      <td>No</td>\n",
       "      <td>0</td>\n",
       "      <td>1</td>\n",
       "      <td>0</td>\n",
       "      <td>0</td>\n",
       "      <td>1</td>\n",
       "      <td>0</td>\n",
       "      <td>0</td>\n",
       "      <td>0</td>\n",
       "      <td>0</td>\n",
       "      <td>...</td>\n",
       "      <td>0</td>\n",
       "      <td>0</td>\n",
       "      <td>0</td>\n",
       "      <td>0</td>\n",
       "      <td>0</td>\n",
       "      <td>1</td>\n",
       "      <td>0</td>\n",
       "      <td>0</td>\n",
       "      <td>0</td>\n",
       "      <td>0</td>\n",
       "    </tr>\n",
       "    <tr>\n",
       "      <th>1</th>\n",
       "      <td>No</td>\n",
       "      <td>0</td>\n",
       "      <td>0</td>\n",
       "      <td>1</td>\n",
       "      <td>0</td>\n",
       "      <td>0</td>\n",
       "      <td>1</td>\n",
       "      <td>0</td>\n",
       "      <td>0</td>\n",
       "      <td>0</td>\n",
       "      <td>...</td>\n",
       "      <td>0</td>\n",
       "      <td>0</td>\n",
       "      <td>0</td>\n",
       "      <td>0</td>\n",
       "      <td>0</td>\n",
       "      <td>0</td>\n",
       "      <td>1</td>\n",
       "      <td>0</td>\n",
       "      <td>0</td>\n",
       "      <td>0</td>\n",
       "    </tr>\n",
       "    <tr>\n",
       "      <th>2</th>\n",
       "      <td>No</td>\n",
       "      <td>0</td>\n",
       "      <td>0</td>\n",
       "      <td>1</td>\n",
       "      <td>0</td>\n",
       "      <td>1</td>\n",
       "      <td>0</td>\n",
       "      <td>0</td>\n",
       "      <td>0</td>\n",
       "      <td>1</td>\n",
       "      <td>...</td>\n",
       "      <td>0</td>\n",
       "      <td>0</td>\n",
       "      <td>0</td>\n",
       "      <td>1</td>\n",
       "      <td>0</td>\n",
       "      <td>0</td>\n",
       "      <td>0</td>\n",
       "      <td>0</td>\n",
       "      <td>0</td>\n",
       "      <td>0</td>\n",
       "    </tr>\n",
       "    <tr>\n",
       "      <th>3</th>\n",
       "      <td>No</td>\n",
       "      <td>0</td>\n",
       "      <td>0</td>\n",
       "      <td>1</td>\n",
       "      <td>0</td>\n",
       "      <td>1</td>\n",
       "      <td>0</td>\n",
       "      <td>0</td>\n",
       "      <td>0</td>\n",
       "      <td>0</td>\n",
       "      <td>...</td>\n",
       "      <td>1</td>\n",
       "      <td>0</td>\n",
       "      <td>0</td>\n",
       "      <td>0</td>\n",
       "      <td>0</td>\n",
       "      <td>0</td>\n",
       "      <td>0</td>\n",
       "      <td>1</td>\n",
       "      <td>0</td>\n",
       "      <td>0</td>\n",
       "    </tr>\n",
       "    <tr>\n",
       "      <th>4</th>\n",
       "      <td>No</td>\n",
       "      <td>0</td>\n",
       "      <td>0</td>\n",
       "      <td>1</td>\n",
       "      <td>0</td>\n",
       "      <td>1</td>\n",
       "      <td>0</td>\n",
       "      <td>0</td>\n",
       "      <td>0</td>\n",
       "      <td>1</td>\n",
       "      <td>...</td>\n",
       "      <td>0</td>\n",
       "      <td>0</td>\n",
       "      <td>0</td>\n",
       "      <td>0</td>\n",
       "      <td>0</td>\n",
       "      <td>1</td>\n",
       "      <td>0</td>\n",
       "      <td>0</td>\n",
       "      <td>0</td>\n",
       "      <td>0</td>\n",
       "    </tr>\n",
       "  </tbody>\n",
       "</table>\n",
       "<p>5 rows × 39 columns</p>\n",
       "</div>"
      ],
      "text/plain": [
       "  Approval  Python (out of 3)_0  Python (out of 3)_1  Python (out of 3)_2  \\\n",
       "0       No                    0                    1                    0   \n",
       "1       No                    0                    0                    1   \n",
       "2       No                    0                    0                    1   \n",
       "3       No                    0                    0                    1   \n",
       "4       No                    0                    0                    1   \n",
       "\n",
       "   Python (out of 3)_3  R Programming (out of 3)_0  \\\n",
       "0                    0                           1   \n",
       "1                    0                           0   \n",
       "2                    0                           1   \n",
       "3                    0                           1   \n",
       "4                    0                           1   \n",
       "\n",
       "   R Programming (out of 3)_1  R Programming (out of 3)_2  \\\n",
       "0                           0                           0   \n",
       "1                           1                           0   \n",
       "2                           0                           0   \n",
       "3                           0                           0   \n",
       "4                           0                           0   \n",
       "\n",
       "   R Programming (out of 3)_3  Data Science (out of 3)_0  ...  \\\n",
       "0                           0                          0  ...   \n",
       "1                           0                          0  ...   \n",
       "2                           0                          1  ...   \n",
       "3                           0                          0  ...   \n",
       "4                           0                          1  ...   \n",
       "\n",
       "   Current Year Of Graduation_2021  Current Year Of Graduation_2022  \\\n",
       "0                                0                                0   \n",
       "1                                0                                0   \n",
       "2                                0                                0   \n",
       "3                                1                                0   \n",
       "4                                0                                0   \n",
       "\n",
       "   Current Year Of Graduation_2023  skillsown_0  skillsown_3  skillsown_6  \\\n",
       "0                                0            0            0            1   \n",
       "1                                0            0            0            0   \n",
       "2                                0            1            0            0   \n",
       "3                                0            0            0            0   \n",
       "4                                0            0            0            1   \n",
       "\n",
       "   skillsown_9  skillsown_12  skillsown_15  skillsown_18  \n",
       "0            0             0             0             0  \n",
       "1            1             0             0             0  \n",
       "2            0             0             0             0  \n",
       "3            0             1             0             0  \n",
       "4            0             0             0             0  \n",
       "\n",
       "[5 rows x 39 columns]"
      ]
     },
     "execution_count": 146,
     "metadata": {},
     "output_type": "execute_result"
    }
   ],
   "source": [
    "df_dummy.head()"
   ]
  },
  {
   "cell_type": "code",
   "execution_count": 87,
   "metadata": {},
   "outputs": [
    {
     "data": {
      "text/plain": [
       "No     567\n",
       "Yes     44\n",
       "Name: Approval, dtype: int64"
      ]
     },
     "execution_count": 87,
     "metadata": {},
     "output_type": "execute_result"
    }
   ],
   "source": [
    "df_dummy.Approval.value_counts()"
   ]
  },
  {
   "cell_type": "markdown",
   "metadata": {},
   "source": [
    "### Balancing the data"
   ]
  },
  {
   "cell_type": "code",
   "execution_count": 92,
   "metadata": {},
   "outputs": [],
   "source": [
    "df_majority = df_dummy[df_dummy.Approval=='No']\n",
    "df_minority = df_dummy[df_dummy.Approval=='Yes']\n",
    "df_minority_upsampled = resample(df_minority, \n",
    "                                 replace=True,     # sample with replacement\n",
    "                                 n_samples=567,    # to match majority class\n",
    "                                 random_state=101) # reproducible results\n",
    "df_balance = pd.concat([df_majority, df_minority_upsampled])"
   ]
  },
  {
   "cell_type": "code",
   "execution_count": 93,
   "metadata": {},
   "outputs": [
    {
     "data": {
      "text/plain": [
       "No     567\n",
       "Yes    567\n",
       "Name: Approval, dtype: int64"
      ]
     },
     "execution_count": 93,
     "metadata": {},
     "output_type": "execute_result"
    }
   ],
   "source": [
    "df_balance.Approval.value_counts()"
   ]
  },
  {
   "cell_type": "code",
   "execution_count": 95,
   "metadata": {},
   "outputs": [
    {
     "data": {
      "text/html": [
       "<div>\n",
       "<style scoped>\n",
       "    .dataframe tbody tr th:only-of-type {\n",
       "        vertical-align: middle;\n",
       "    }\n",
       "\n",
       "    .dataframe tbody tr th {\n",
       "        vertical-align: top;\n",
       "    }\n",
       "\n",
       "    .dataframe thead th {\n",
       "        text-align: right;\n",
       "    }\n",
       "</style>\n",
       "<table border=\"1\" class=\"dataframe\">\n",
       "  <thead>\n",
       "    <tr style=\"text-align: right;\">\n",
       "      <th></th>\n",
       "      <th>Approval</th>\n",
       "      <th>Python (out of 3)_0</th>\n",
       "      <th>Python (out of 3)_1</th>\n",
       "      <th>Python (out of 3)_2</th>\n",
       "      <th>Python (out of 3)_3</th>\n",
       "      <th>R Programming (out of 3)_0</th>\n",
       "      <th>R Programming (out of 3)_1</th>\n",
       "      <th>R Programming (out of 3)_2</th>\n",
       "      <th>R Programming (out of 3)_3</th>\n",
       "      <th>Data Science (out of 3)_0</th>\n",
       "      <th>...</th>\n",
       "      <th>Current Year Of Graduation_2021</th>\n",
       "      <th>Current Year Of Graduation_2022</th>\n",
       "      <th>Current Year Of Graduation_2023</th>\n",
       "      <th>skillsown_0</th>\n",
       "      <th>skillsown_3</th>\n",
       "      <th>skillsown_6</th>\n",
       "      <th>skillsown_9</th>\n",
       "      <th>skillsown_12</th>\n",
       "      <th>skillsown_15</th>\n",
       "      <th>skillsown_18</th>\n",
       "    </tr>\n",
       "  </thead>\n",
       "  <tbody>\n",
       "    <tr>\n",
       "      <th>0</th>\n",
       "      <td>No</td>\n",
       "      <td>0</td>\n",
       "      <td>1</td>\n",
       "      <td>0</td>\n",
       "      <td>0</td>\n",
       "      <td>1</td>\n",
       "      <td>0</td>\n",
       "      <td>0</td>\n",
       "      <td>0</td>\n",
       "      <td>0</td>\n",
       "      <td>...</td>\n",
       "      <td>0</td>\n",
       "      <td>0</td>\n",
       "      <td>0</td>\n",
       "      <td>0</td>\n",
       "      <td>0</td>\n",
       "      <td>1</td>\n",
       "      <td>0</td>\n",
       "      <td>0</td>\n",
       "      <td>0</td>\n",
       "      <td>0</td>\n",
       "    </tr>\n",
       "    <tr>\n",
       "      <th>1</th>\n",
       "      <td>No</td>\n",
       "      <td>0</td>\n",
       "      <td>0</td>\n",
       "      <td>1</td>\n",
       "      <td>0</td>\n",
       "      <td>0</td>\n",
       "      <td>1</td>\n",
       "      <td>0</td>\n",
       "      <td>0</td>\n",
       "      <td>0</td>\n",
       "      <td>...</td>\n",
       "      <td>0</td>\n",
       "      <td>0</td>\n",
       "      <td>0</td>\n",
       "      <td>0</td>\n",
       "      <td>0</td>\n",
       "      <td>0</td>\n",
       "      <td>1</td>\n",
       "      <td>0</td>\n",
       "      <td>0</td>\n",
       "      <td>0</td>\n",
       "    </tr>\n",
       "    <tr>\n",
       "      <th>2</th>\n",
       "      <td>No</td>\n",
       "      <td>0</td>\n",
       "      <td>0</td>\n",
       "      <td>1</td>\n",
       "      <td>0</td>\n",
       "      <td>1</td>\n",
       "      <td>0</td>\n",
       "      <td>0</td>\n",
       "      <td>0</td>\n",
       "      <td>1</td>\n",
       "      <td>...</td>\n",
       "      <td>0</td>\n",
       "      <td>0</td>\n",
       "      <td>0</td>\n",
       "      <td>1</td>\n",
       "      <td>0</td>\n",
       "      <td>0</td>\n",
       "      <td>0</td>\n",
       "      <td>0</td>\n",
       "      <td>0</td>\n",
       "      <td>0</td>\n",
       "    </tr>\n",
       "    <tr>\n",
       "      <th>3</th>\n",
       "      <td>No</td>\n",
       "      <td>0</td>\n",
       "      <td>0</td>\n",
       "      <td>1</td>\n",
       "      <td>0</td>\n",
       "      <td>1</td>\n",
       "      <td>0</td>\n",
       "      <td>0</td>\n",
       "      <td>0</td>\n",
       "      <td>0</td>\n",
       "      <td>...</td>\n",
       "      <td>1</td>\n",
       "      <td>0</td>\n",
       "      <td>0</td>\n",
       "      <td>0</td>\n",
       "      <td>0</td>\n",
       "      <td>0</td>\n",
       "      <td>0</td>\n",
       "      <td>1</td>\n",
       "      <td>0</td>\n",
       "      <td>0</td>\n",
       "    </tr>\n",
       "    <tr>\n",
       "      <th>4</th>\n",
       "      <td>No</td>\n",
       "      <td>0</td>\n",
       "      <td>0</td>\n",
       "      <td>1</td>\n",
       "      <td>0</td>\n",
       "      <td>1</td>\n",
       "      <td>0</td>\n",
       "      <td>0</td>\n",
       "      <td>0</td>\n",
       "      <td>1</td>\n",
       "      <td>...</td>\n",
       "      <td>0</td>\n",
       "      <td>0</td>\n",
       "      <td>0</td>\n",
       "      <td>0</td>\n",
       "      <td>0</td>\n",
       "      <td>1</td>\n",
       "      <td>0</td>\n",
       "      <td>0</td>\n",
       "      <td>0</td>\n",
       "      <td>0</td>\n",
       "    </tr>\n",
       "  </tbody>\n",
       "</table>\n",
       "<p>5 rows × 39 columns</p>\n",
       "</div>"
      ],
      "text/plain": [
       "  Approval  Python (out of 3)_0  Python (out of 3)_1  Python (out of 3)_2  \\\n",
       "0       No                    0                    1                    0   \n",
       "1       No                    0                    0                    1   \n",
       "2       No                    0                    0                    1   \n",
       "3       No                    0                    0                    1   \n",
       "4       No                    0                    0                    1   \n",
       "\n",
       "   Python (out of 3)_3  R Programming (out of 3)_0  \\\n",
       "0                    0                           1   \n",
       "1                    0                           0   \n",
       "2                    0                           1   \n",
       "3                    0                           1   \n",
       "4                    0                           1   \n",
       "\n",
       "   R Programming (out of 3)_1  R Programming (out of 3)_2  \\\n",
       "0                           0                           0   \n",
       "1                           1                           0   \n",
       "2                           0                           0   \n",
       "3                           0                           0   \n",
       "4                           0                           0   \n",
       "\n",
       "   R Programming (out of 3)_3  Data Science (out of 3)_0  ...  \\\n",
       "0                           0                          0  ...   \n",
       "1                           0                          0  ...   \n",
       "2                           0                          1  ...   \n",
       "3                           0                          0  ...   \n",
       "4                           0                          1  ...   \n",
       "\n",
       "   Current Year Of Graduation_2021  Current Year Of Graduation_2022  \\\n",
       "0                                0                                0   \n",
       "1                                0                                0   \n",
       "2                                0                                0   \n",
       "3                                1                                0   \n",
       "4                                0                                0   \n",
       "\n",
       "   Current Year Of Graduation_2023  skillsown_0  skillsown_3  skillsown_6  \\\n",
       "0                                0            0            0            1   \n",
       "1                                0            0            0            0   \n",
       "2                                0            1            0            0   \n",
       "3                                0            0            0            0   \n",
       "4                                0            0            0            1   \n",
       "\n",
       "   skillsown_9  skillsown_12  skillsown_15  skillsown_18  \n",
       "0            0             0             0             0  \n",
       "1            1             0             0             0  \n",
       "2            0             0             0             0  \n",
       "3            0             1             0             0  \n",
       "4            0             0             0             0  \n",
       "\n",
       "[5 rows x 39 columns]"
      ]
     },
     "execution_count": 95,
     "metadata": {},
     "output_type": "execute_result"
    }
   ],
   "source": [
    "df_balance.head()"
   ]
  },
  {
   "cell_type": "code",
   "execution_count": 143,
   "metadata": {},
   "outputs": [],
   "source": [
    "df_balance.to_csv('final_dummify_balanced_data.csv')"
   ]
  },
  {
   "cell_type": "code",
   "execution_count": null,
   "metadata": {},
   "outputs": [],
   "source": []
  },
  {
   "cell_type": "markdown",
   "metadata": {},
   "source": [
    "## Modeling Part"
   ]
  },
  {
   "cell_type": "code",
   "execution_count": 96,
   "metadata": {},
   "outputs": [],
   "source": [
    "xtr,xte,ytr,yte = train_test_split(df_balance[df_balance.columns[1:]],df_balance['Approval'],test_size=0.3,random_state=101)"
   ]
  },
  {
   "cell_type": "code",
   "execution_count": 101,
   "metadata": {},
   "outputs": [],
   "source": [
    "xtr_o,xte_o,ytr_o,yte_o = train_test_split(df_dummy[df_dummy.columns[1:]],df_dummy['Approval'],test_size=0.3,random_state=101)"
   ]
  },
  {
   "cell_type": "code",
   "execution_count": 105,
   "metadata": {},
   "outputs": [
    {
     "data": {
      "text/plain": [
       "((427, 38), (184, 38))"
      ]
     },
     "execution_count": 105,
     "metadata": {},
     "output_type": "execute_result"
    }
   ],
   "source": [
    "xtr_o.shape,xte_o.shape"
   ]
  },
  {
   "cell_type": "code",
   "execution_count": 106,
   "metadata": {},
   "outputs": [
    {
     "data": {
      "text/plain": [
       "((793, 38), (341, 38))"
      ]
     },
     "execution_count": 106,
     "metadata": {},
     "output_type": "execute_result"
    }
   ],
   "source": [
    "xtr.shape,xte.shape"
   ]
  },
  {
   "cell_type": "markdown",
   "metadata": {},
   "source": [
    "### Decission Tree"
   ]
  },
  {
   "cell_type": "code",
   "execution_count": 126,
   "metadata": {},
   "outputs": [
    {
     "data": {
      "application/vnd.jupyter.widget-view+json": {
       "model_id": "65dee69a19af4cbdbd72aaf843c1f073",
       "version_major": 2,
       "version_minor": 0
      },
      "text/plain": [
       "interactive(children=(Dropdown(description='cri', options=('entropy', 'gini'), value='entropy'), Dropdown(desc…"
      ]
     },
     "metadata": {},
     "output_type": "display_data"
    },
    {
     "data": {
      "text/plain": [
       "<function __main__.treebuild(cri, mxd, minsl, rs, spl)>"
      ]
     },
     "execution_count": 126,
     "metadata": {},
     "output_type": "execute_result"
    }
   ],
   "source": [
    "def treebuild(cri,mxd,minsl,rs,spl):\n",
    "    Approve_Tree = DecisionTreeClassifier(criterion=cri,max_depth=mxd,min_samples_leaf=minsl,random_state=rs,splitter=spl)\n",
    "    Approve_Tree.fit(xtr,ytr)\n",
    "    pred_bal = Approve_Tree.predict(xte)\n",
    "    pred_ = Approve_Tree.predict(xte_o)\n",
    "    prr_bal = Approve_Tree.predict(xtr)\n",
    "    prr_ = Approve_Tree.predict(xtr_o)\n",
    "    print(len(yte),len(pred_))\n",
    "    print(\"Test Accuracy original Data\",np.mean(yte_o==pred_))\n",
    "    \n",
    "    print(\"Train Accuracy Original Data\",np.mean(ytr_o==prr_))\n",
    "    print (\"Test Accuracy Balanced Data\",np.mean(yte==pred_bal))\n",
    "#     print(classification_report(Y_test_lab_bal,pred_bal))\n",
    "    print(\"Train Accuracy Balanced Data\",np.mean(ytr==prr_bal))\n",
    "    print(classification_report(yte_o,pred_))\n",
    "interact(treebuild,cri=['entropy','gini'],mxd=[i for i in range(1,20)],minsl=[i for i in range(1,10)],rs=[i for i in  range(30)],spl=['best','random'])"
   ]
  },
  {
   "cell_type": "code",
   "execution_count": 127,
   "metadata": {},
   "outputs": [],
   "source": [
    "## final model"
   ]
  },
  {
   "cell_type": "code",
   "execution_count": 130,
   "metadata": {},
   "outputs": [
    {
     "name": "stdout",
     "output_type": "stream",
     "text": [
      "341 184\n",
      "Test Accuracy original Data 0.9945652173913043\n",
      "Train Accuracy Original Data 0.9976580796252927\n",
      "Test Accuracy Balanced Data 0.9970674486803519\n",
      "Train Accuracy Balanced Data 0.9987389659520807\n",
      "              precision    recall  f1-score   support\n",
      "\n",
      "          No       1.00      0.99      1.00       172\n",
      "         Yes       0.92      1.00      0.96        12\n",
      "\n",
      "    accuracy                           0.99       184\n",
      "   macro avg       0.96      1.00      0.98       184\n",
      "weighted avg       0.99      0.99      0.99       184\n",
      "\n"
     ]
    }
   ],
   "source": [
    "Approve_Tree_final = DecisionTreeClassifier(criterion='entropy',max_depth=10,min_samples_leaf=1,random_state=4,splitter='random')\n",
    "Approve_Tree_final.fit(xtr,ytr)\n",
    "pred_bal = Approve_Tree_final.predict(xte)\n",
    "pred_ = Approve_Tree_final.predict(xte_o)\n",
    "prr_bal = Approve_Tree_final.predict(xtr)\n",
    "prr_ = Approve_Tree_final.predict(xtr_o)\n",
    "print(len(yte),len(pred_))\n",
    "print(\"Test Accuracy original Data\",np.mean(yte_o==pred_))\n",
    "\n",
    "print(\"Train Accuracy Original Data\",np.mean(ytr_o==prr_))\n",
    "print (\"Test Accuracy Balanced Data\",np.mean(yte==pred_bal))\n",
    "print(\"Train Accuracy Balanced Data\",np.mean(ytr==prr_bal))\n",
    "print(classification_report(yte_o,pred_))"
   ]
  },
  {
   "cell_type": "code",
   "execution_count": 188,
   "metadata": {},
   "outputs": [
    {
     "name": "stdout",
     "output_type": "stream",
     "text": [
      "['Yes']\n"
     ]
    }
   ],
   "source": [
    "Approve_Tree_final = DecisionTreeClassifier(criterion='entropy',max_depth=10,min_samples_leaf=1,random_state=4,splitter='random')\n",
    "Approve_Tree_final.fit(xtr.values,ytr.values)\n",
    "pred_bal = Approve_Tree_final.predict([xte.values[1]])\n",
    "print(pred_bal)"
   ]
  },
  {
   "cell_type": "code",
   "execution_count": 141,
   "metadata": {},
   "outputs": [],
   "source": [
    "def modeldtree(xtr,ytr,xte):\n",
    "    Approve_Tree_final = DecisionTreeClassifier(criterion='entropy',max_depth=10,min_samples_leaf=1,random_state=4,splitter='random')\n",
    "    Approve_Tree_final.fit(xtr.values,ytr.values)\n",
    "    pred_ = Approve_Tree_final.predict(xte)\n",
    "    return pred_ "
   ]
  },
  {
   "cell_type": "code",
   "execution_count": 142,
   "metadata": {},
   "outputs": [
    {
     "data": {
      "text/plain": [
       "array(['Yes', 'Yes', 'No', 'Yes', 'No', 'No', 'Yes', 'No', 'Yes', 'No',\n",
       "       'Yes', 'No', 'No', 'Yes', 'Yes', 'No', 'Yes', 'Yes', 'Yes', 'No',\n",
       "       'Yes', 'No', 'No', 'Yes', 'Yes', 'Yes', 'No', 'No', 'No', 'No',\n",
       "       'No', 'No', 'No', 'Yes', 'No', 'Yes', 'No', 'Yes', 'Yes', 'Yes',\n",
       "       'No', 'No', 'Yes', 'Yes', 'Yes', 'No', 'Yes', 'No', 'No', 'No',\n",
       "       'No', 'Yes', 'No', 'Yes', 'No', 'Yes', 'No', 'No', 'Yes', 'No',\n",
       "       'No', 'Yes', 'Yes', 'Yes', 'Yes', 'No', 'Yes', 'Yes', 'No', 'No',\n",
       "       'Yes', 'Yes', 'Yes', 'No', 'Yes', 'Yes', 'No', 'Yes', 'Yes', 'Yes',\n",
       "       'Yes', 'No', 'No', 'No', 'No', 'Yes', 'No', 'No', 'Yes', 'Yes',\n",
       "       'No', 'No', 'No', 'Yes', 'Yes', 'No', 'No', 'Yes', 'Yes', 'No',\n",
       "       'Yes', 'Yes', 'Yes', 'No', 'No', 'Yes', 'No', 'Yes', 'Yes', 'Yes',\n",
       "       'No', 'Yes', 'Yes', 'Yes', 'Yes', 'Yes', 'No', 'No', 'No', 'No',\n",
       "       'Yes', 'Yes', 'No', 'Yes', 'No', 'No', 'No', 'Yes', 'Yes', 'Yes',\n",
       "       'No', 'Yes', 'No', 'Yes', 'No', 'Yes', 'Yes', 'Yes', 'No', 'Yes',\n",
       "       'No', 'No', 'Yes', 'No', 'No', 'No', 'No', 'No', 'Yes', 'Yes',\n",
       "       'Yes', 'No', 'No', 'No', 'No', 'No', 'Yes', 'No', 'No', 'Yes',\n",
       "       'No', 'Yes', 'Yes', 'Yes', 'No', 'No', 'No', 'No', 'Yes', 'Yes',\n",
       "       'Yes', 'No', 'No', 'No', 'Yes', 'No', 'No', 'Yes', 'Yes', 'Yes',\n",
       "       'Yes', 'Yes', 'Yes', 'Yes', 'No', 'No', 'No', 'Yes', 'No', 'No',\n",
       "       'Yes', 'No', 'Yes', 'No', 'Yes', 'No', 'Yes', 'Yes', 'Yes', 'Yes',\n",
       "       'No', 'No', 'No', 'Yes', 'Yes', 'Yes', 'Yes', 'Yes', 'No', 'Yes',\n",
       "       'Yes', 'Yes', 'Yes', 'Yes', 'No', 'Yes', 'No', 'No', 'No', 'No',\n",
       "       'No', 'Yes', 'No', 'No', 'Yes', 'Yes', 'Yes', 'No', 'No', 'No',\n",
       "       'No', 'No', 'No', 'Yes', 'No', 'No', 'No', 'Yes', 'No', 'Yes',\n",
       "       'Yes', 'No', 'No', 'No', 'No', 'Yes', 'No', 'Yes', 'No', 'No',\n",
       "       'No', 'No', 'No', 'Yes', 'Yes', 'No', 'Yes', 'Yes', 'Yes', 'No',\n",
       "       'No', 'Yes', 'No', 'No', 'No', 'No', 'No', 'Yes', 'No', 'Yes',\n",
       "       'Yes', 'No', 'No', 'No', 'No', 'No', 'No', 'No', 'Yes', 'Yes',\n",
       "       'No', 'No', 'No', 'Yes', 'No', 'Yes', 'Yes', 'Yes', 'No', 'Yes',\n",
       "       'Yes', 'Yes', 'No', 'Yes', 'No', 'No', 'Yes', 'No', 'No', 'No',\n",
       "       'No', 'Yes', 'No', 'Yes', 'No', 'Yes', 'Yes', 'Yes', 'No', 'No',\n",
       "       'No', 'Yes', 'Yes', 'Yes', 'No', 'Yes', 'Yes', 'No', 'Yes', 'Yes',\n",
       "       'No', 'No', 'No', 'Yes', 'No', 'Yes', 'No', 'Yes', 'Yes', 'Yes',\n",
       "       'No', 'No', 'No', 'Yes', 'No', 'No', 'No', 'Yes', 'No', 'No',\n",
       "       'Yes'], dtype=object)"
      ]
     },
     "execution_count": 142,
     "metadata": {},
     "output_type": "execute_result"
    }
   ],
   "source": [
    "modeldtree(xtr,ytr,xte.values)"
   ]
  },
  {
   "cell_type": "code",
   "execution_count": 147,
   "metadata": {},
   "outputs": [
    {
     "data": {
      "text/plain": [
       "Index(['Python (out of 3)', 'R Programming (out of 3)',\n",
       "       'Data Science (out of 3)', 'Current Year Of Graduation', 'skillsown',\n",
       "       'Approval'],\n",
       "      dtype='object')"
      ]
     },
     "execution_count": 147,
     "metadata": {},
     "output_type": "execute_result"
    }
   ],
   "source": [
    "df_s.columns"
   ]
  },
  {
   "cell_type": "code",
   "execution_count": 153,
   "metadata": {},
   "outputs": [],
   "source": [
    "A = {'Python (out of 3)':1, 'R Programming (out of 3)':2,\n",
    "       'Data Science (out of 3)':3, 'Current Year Of Graduation':2019, 'skillsown':9,\n",
    "       'Approval':'No'}\n",
    "A = pd.Series(A)"
   ]
  },
  {
   "cell_type": "code",
   "execution_count": 154,
   "metadata": {},
   "outputs": [
    {
     "data": {
      "text/plain": [
       "Python (out of 3)                1\n",
       "R Programming (out of 3)         2\n",
       "Data Science (out of 3)          3\n",
       "Current Year Of Graduation    2019\n",
       "skillsown                        9\n",
       "Approval                        No\n",
       "dtype: object"
      ]
     },
     "execution_count": 154,
     "metadata": {},
     "output_type": "execute_result"
    }
   ],
   "source": [
    "A"
   ]
  },
  {
   "cell_type": "code",
   "execution_count": 159,
   "metadata": {},
   "outputs": [
    {
     "data": {
      "text/html": [
       "<div>\n",
       "<style scoped>\n",
       "    .dataframe tbody tr th:only-of-type {\n",
       "        vertical-align: middle;\n",
       "    }\n",
       "\n",
       "    .dataframe tbody tr th {\n",
       "        vertical-align: top;\n",
       "    }\n",
       "\n",
       "    .dataframe thead th {\n",
       "        text-align: right;\n",
       "    }\n",
       "</style>\n",
       "<table border=\"1\" class=\"dataframe\">\n",
       "  <thead>\n",
       "    <tr style=\"text-align: right;\">\n",
       "      <th></th>\n",
       "      <th>0</th>\n",
       "      <th>Approval</th>\n",
       "      <th>Current Year Of Graduation</th>\n",
       "      <th>Data Science (out of 3)</th>\n",
       "      <th>Python (out of 3)</th>\n",
       "      <th>R Programming (out of 3)</th>\n",
       "      <th>skillsown</th>\n",
       "    </tr>\n",
       "  </thead>\n",
       "  <tbody>\n",
       "    <tr>\n",
       "      <th>0</th>\n",
       "      <td>NaN</td>\n",
       "      <td>No</td>\n",
       "      <td>2019.0</td>\n",
       "      <td>3.0</td>\n",
       "      <td>1.0</td>\n",
       "      <td>0.0</td>\n",
       "      <td>6.0</td>\n",
       "    </tr>\n",
       "    <tr>\n",
       "      <th>1</th>\n",
       "      <td>NaN</td>\n",
       "      <td>No</td>\n",
       "      <td>2020.0</td>\n",
       "      <td>2.0</td>\n",
       "      <td>2.0</td>\n",
       "      <td>1.0</td>\n",
       "      <td>9.0</td>\n",
       "    </tr>\n",
       "    <tr>\n",
       "      <th>2</th>\n",
       "      <td>NaN</td>\n",
       "      <td>No</td>\n",
       "      <td>2018.0</td>\n",
       "      <td>0.0</td>\n",
       "      <td>2.0</td>\n",
       "      <td>0.0</td>\n",
       "      <td>0.0</td>\n",
       "    </tr>\n",
       "    <tr>\n",
       "      <th>3</th>\n",
       "      <td>NaN</td>\n",
       "      <td>No</td>\n",
       "      <td>2021.0</td>\n",
       "      <td>2.0</td>\n",
       "      <td>2.0</td>\n",
       "      <td>0.0</td>\n",
       "      <td>12.0</td>\n",
       "    </tr>\n",
       "    <tr>\n",
       "      <th>4</th>\n",
       "      <td>NaN</td>\n",
       "      <td>No</td>\n",
       "      <td>2018.0</td>\n",
       "      <td>0.0</td>\n",
       "      <td>2.0</td>\n",
       "      <td>0.0</td>\n",
       "      <td>6.0</td>\n",
       "    </tr>\n",
       "    <tr>\n",
       "      <th>Python (out of 3)</th>\n",
       "      <td>1</td>\n",
       "      <td>NaN</td>\n",
       "      <td>NaN</td>\n",
       "      <td>NaN</td>\n",
       "      <td>NaN</td>\n",
       "      <td>NaN</td>\n",
       "      <td>NaN</td>\n",
       "    </tr>\n",
       "    <tr>\n",
       "      <th>R Programming (out of 3)</th>\n",
       "      <td>2</td>\n",
       "      <td>NaN</td>\n",
       "      <td>NaN</td>\n",
       "      <td>NaN</td>\n",
       "      <td>NaN</td>\n",
       "      <td>NaN</td>\n",
       "      <td>NaN</td>\n",
       "    </tr>\n",
       "    <tr>\n",
       "      <th>Data Science (out of 3)</th>\n",
       "      <td>3</td>\n",
       "      <td>NaN</td>\n",
       "      <td>NaN</td>\n",
       "      <td>NaN</td>\n",
       "      <td>NaN</td>\n",
       "      <td>NaN</td>\n",
       "      <td>NaN</td>\n",
       "    </tr>\n",
       "    <tr>\n",
       "      <th>Current Year Of Graduation</th>\n",
       "      <td>2019</td>\n",
       "      <td>NaN</td>\n",
       "      <td>NaN</td>\n",
       "      <td>NaN</td>\n",
       "      <td>NaN</td>\n",
       "      <td>NaN</td>\n",
       "      <td>NaN</td>\n",
       "    </tr>\n",
       "    <tr>\n",
       "      <th>skillsown</th>\n",
       "      <td>9</td>\n",
       "      <td>NaN</td>\n",
       "      <td>NaN</td>\n",
       "      <td>NaN</td>\n",
       "      <td>NaN</td>\n",
       "      <td>NaN</td>\n",
       "      <td>NaN</td>\n",
       "    </tr>\n",
       "    <tr>\n",
       "      <th>Approval</th>\n",
       "      <td>No</td>\n",
       "      <td>NaN</td>\n",
       "      <td>NaN</td>\n",
       "      <td>NaN</td>\n",
       "      <td>NaN</td>\n",
       "      <td>NaN</td>\n",
       "      <td>NaN</td>\n",
       "    </tr>\n",
       "  </tbody>\n",
       "</table>\n",
       "</div>"
      ],
      "text/plain": [
       "                               0 Approval  Current Year Of Graduation  \\\n",
       "0                            NaN       No                      2019.0   \n",
       "1                            NaN       No                      2020.0   \n",
       "2                            NaN       No                      2018.0   \n",
       "3                            NaN       No                      2021.0   \n",
       "4                            NaN       No                      2018.0   \n",
       "Python (out of 3)              1      NaN                         NaN   \n",
       "R Programming (out of 3)       2      NaN                         NaN   \n",
       "Data Science (out of 3)        3      NaN                         NaN   \n",
       "Current Year Of Graduation  2019      NaN                         NaN   \n",
       "skillsown                      9      NaN                         NaN   \n",
       "Approval                      No      NaN                         NaN   \n",
       "\n",
       "                            Data Science (out of 3)  Python (out of 3)  \\\n",
       "0                                               3.0                1.0   \n",
       "1                                               2.0                2.0   \n",
       "2                                               0.0                2.0   \n",
       "3                                               2.0                2.0   \n",
       "4                                               0.0                2.0   \n",
       "Python (out of 3)                               NaN                NaN   \n",
       "R Programming (out of 3)                        NaN                NaN   \n",
       "Data Science (out of 3)                         NaN                NaN   \n",
       "Current Year Of Graduation                      NaN                NaN   \n",
       "skillsown                                       NaN                NaN   \n",
       "Approval                                        NaN                NaN   \n",
       "\n",
       "                            R Programming (out of 3)  skillsown  \n",
       "0                                                0.0        6.0  \n",
       "1                                                1.0        9.0  \n",
       "2                                                0.0        0.0  \n",
       "3                                                0.0       12.0  \n",
       "4                                                0.0        6.0  \n",
       "Python (out of 3)                                NaN        NaN  \n",
       "R Programming (out of 3)                         NaN        NaN  \n",
       "Data Science (out of 3)                          NaN        NaN  \n",
       "Current Year Of Graduation                       NaN        NaN  \n",
       "skillsown                                        NaN        NaN  \n",
       "Approval                                         NaN        NaN  "
      ]
     },
     "execution_count": 159,
     "metadata": {},
     "output_type": "execute_result"
    }
   ],
   "source": [
    "pd.concat([df_s.head(),A],axis=0)"
   ]
  },
  {
   "cell_type": "code",
   "execution_count": 169,
   "metadata": {},
   "outputs": [
    {
     "data": {
      "text/plain": [
       "Python (out of 3)                2\n",
       "R Programming (out of 3)         2\n",
       "Data Science (out of 3)          0\n",
       "Current Year Of Graduation    2016\n",
       "skillsown                       12\n",
       "Approval                        No\n",
       "Name: 610, dtype: object"
      ]
     },
     "execution_count": 169,
     "metadata": {},
     "output_type": "execute_result"
    }
   ],
   "source": [
    "df_s.iloc[-1]"
   ]
  },
  {
   "cell_type": "markdown",
   "metadata": {},
   "source": [
    "## Create pickel of final model"
   ]
  },
  {
   "cell_type": "code",
   "execution_count": 189,
   "metadata": {},
   "outputs": [],
   "source": [
    "import pickle"
   ]
  },
  {
   "cell_type": "code",
   "execution_count": 190,
   "metadata": {},
   "outputs": [],
   "source": [
    "pickle.dump(Approve_Tree_final, open(\"Approve_Tree_final\", 'wb'))"
   ]
  },
  {
   "cell_type": "code",
   "execution_count": 191,
   "metadata": {},
   "outputs": [],
   "source": [
    "model = pickle.load(open(\"Approve_Tree_final\", 'rb'))"
   ]
  },
  {
   "cell_type": "code",
   "execution_count": 197,
   "metadata": {},
   "outputs": [
    {
     "data": {
      "text/plain": [
       "[array([0, 0, 0, 1, 0, 0, 0, 1, 0, 0, 0, 1, 0, 0, 0, 0, 0, 0, 0, 0, 0, 0,\n",
       "        0, 0, 0, 0, 1, 0, 0, 0, 0, 0, 0, 0, 0, 1, 0, 0], dtype=uint8)]"
      ]
     },
     "execution_count": 197,
     "metadata": {},
     "output_type": "execute_result"
    }
   ],
   "source": [
    "[xte.values[1]]"
   ]
  },
  {
   "cell_type": "code",
   "execution_count": 204,
   "metadata": {},
   "outputs": [
    {
     "name": "stdout",
     "output_type": "stream",
     "text": [
      "Approved\n"
     ]
    }
   ],
   "source": [
    "if model.predict([xte.values[1]])==\"Yes\" :\n",
    "    print(\"Approved\")"
   ]
  },
  {
   "cell_type": "code",
   "execution_count": null,
   "metadata": {},
   "outputs": [],
   "source": []
  }
 ],
 "metadata": {
  "kernelspec": {
   "display_name": "Python 3",
   "language": "python",
   "name": "python3"
  },
  "language_info": {
   "codemirror_mode": {
    "name": "ipython",
    "version": 3
   },
   "file_extension": ".py",
   "mimetype": "text/x-python",
   "name": "python",
   "nbconvert_exporter": "python",
   "pygments_lexer": "ipython3",
   "version": "3.6.5"
  }
 },
 "nbformat": 4,
 "nbformat_minor": 4
}
