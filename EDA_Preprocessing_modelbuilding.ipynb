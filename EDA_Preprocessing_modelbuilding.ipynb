{
 "cells": [
  {
   "cell_type": "code",
   "execution_count": 1,
   "metadata": {},
   "outputs": [],
   "source": [
    "import pandas as pd\n",
    "import numpy as np\n",
    "from ipywidgets import interact\n",
    "from sklearn.metrics import classification_report,confusion_matrix"
   ]
  },
  {
   "cell_type": "code",
   "execution_count": 2,
   "metadata": {},
   "outputs": [],
   "source": [
    "df = pd.read_csv(\"Data_Science_2020_v2.csv\")"
   ]
  },
  {
   "cell_type": "code",
   "execution_count": 3,
   "metadata": {},
   "outputs": [
    {
     "data": {
      "text/plain": [
       "Index(['Application_ID', 'Current City', 'Python (out of 3)',\n",
       "       'R Programming (out of 3)', 'Data Science (out of 3)', 'Other skills',\n",
       "       'Institute', 'Degree', 'Stream', 'Current Year Of Graduation',\n",
       "       'Performance_PG', 'Performance_UG', 'Performance_12', 'Performance_10'],\n",
       "      dtype='object')"
      ]
     },
     "execution_count": 3,
     "metadata": {},
     "output_type": "execute_result"
    }
   ],
   "source": [
    "df.columns"
   ]
  },
  {
   "cell_type": "code",
   "execution_count": 4,
   "metadata": {},
   "outputs": [],
   "source": [
    "oskills = {'Machine Learning',' Machine Learning','Deep Learning',' Deep Learning','Natural Language Processing (NLP)',' Natural Language Processing (NLP)','Amazon Web Services (AWS)',' Amazon Web Services (AWS)','Statistical Modeling',' Statistical Modeling','MS-Excel',' MS-Excel'}\n",
    "ugyear = {2020:10,2019:8}\n",
    "pgyear = {2020:7}\n",
    "rating = {3:10,2:7,1:3}\n",
    "totalscore = []\n",
    "skillsown = []\n",
    "for py,r,ds,osk,year,per in zip(df['Python (out of 3)'],df['R Programming (out of 3)'],df['Data Science (out of 3)'],df['Other skills'],df['Current Year Of Graduation'],df['Performance_PG']):\n",
    "    score = 0\n",
    "    skillscore = 0\n",
    "#     if per == 'missing':\n",
    "    score += ugyear.get(year,5)\n",
    "#     else:\n",
    "#         score += pgyear.get(year,3)\n",
    "    score += rating.get(py,0)\n",
    "    score += rating.get(r,0)\n",
    "    score += rating.get(ds,0)\n",
    "    try:\n",
    "        ownskill = osk.split(\",\")\n",
    "    except:\n",
    "        ownskill = \"none\"        \n",
    "    score += len(set(ownskill).intersection(oskills))*3\n",
    "    skillscore += len(set(ownskill).intersection(oskills))\n",
    "    if \"SQL\" in str(osk) or \"DB\" in str(osk):\n",
    "        score += 3\n",
    "        skillscore += 1\n",
    "    #print(score)\n",
    "    #print(skillscore*3)\n",
    "    totalscore.append(score)\n",
    "    skillsown.append(skillscore)\n",
    "\n",
    "#totalscore\n",
    "df['skillsown']=[i*3 for i in skillsown ]\n",
    "df['totalscore'] = totalscore\n",
    "df['Approval'] = ['Yes' if i >= 40 else 'No' for i in totalscore]"
   ]
  },
  {
   "cell_type": "code",
   "execution_count": 5,
   "metadata": {},
   "outputs": [],
   "source": [
    "df1 = df.head(20)"
   ]
  },
  {
   "cell_type": "code",
   "execution_count": 6,
   "metadata": {},
   "outputs": [
    {
     "data": {
      "text/plain": [
       "No     567\n",
       "Yes     44\n",
       "Name: Approval, dtype: int64"
      ]
     },
     "execution_count": 6,
     "metadata": {},
     "output_type": "execute_result"
    }
   ],
   "source": [
    "df.Approval.value_counts()"
   ]
  },
  {
   "cell_type": "markdown",
   "metadata": {},
   "source": [
    "## So out of all participants only 40 are approved for the next round "
   ]
  },
  {
   "cell_type": "code",
   "execution_count": 7,
   "metadata": {},
   "outputs": [
    {
     "ename": "PermissionError",
     "evalue": "[Errno 13] Permission denied: 'final.csv'",
     "output_type": "error",
     "traceback": [
      "\u001b[1;31m---------------------------------------------------------------------------\u001b[0m",
      "\u001b[1;31mPermissionError\u001b[0m                           Traceback (most recent call last)",
      "\u001b[1;32m<ipython-input-7-4ac03ac84742>\u001b[0m in \u001b[0;36m<module>\u001b[1;34m\u001b[0m\n\u001b[1;32m----> 1\u001b[1;33m \u001b[0mdf\u001b[0m\u001b[1;33m.\u001b[0m\u001b[0mto_csv\u001b[0m\u001b[1;33m(\u001b[0m\u001b[1;34m'final.csv'\u001b[0m\u001b[1;33m)\u001b[0m\u001b[1;33m\u001b[0m\u001b[0m\n\u001b[0m",
      "\u001b[1;32mc:\\python35\\lib\\site-packages\\pandas\\core\\generic.py\u001b[0m in \u001b[0;36mto_csv\u001b[1;34m(self, path_or_buf, sep, na_rep, float_format, columns, header, index, index_label, mode, encoding, compression, quoting, quotechar, line_terminator, chunksize, date_format, doublequote, escapechar, decimal)\u001b[0m\n\u001b[0;32m   3202\u001b[0m             \u001b[0mdecimal\u001b[0m\u001b[1;33m=\u001b[0m\u001b[0mdecimal\u001b[0m\u001b[1;33m,\u001b[0m\u001b[1;33m\u001b[0m\u001b[0m\n\u001b[0;32m   3203\u001b[0m         )\n\u001b[1;32m-> 3204\u001b[1;33m         \u001b[0mformatter\u001b[0m\u001b[1;33m.\u001b[0m\u001b[0msave\u001b[0m\u001b[1;33m(\u001b[0m\u001b[1;33m)\u001b[0m\u001b[1;33m\u001b[0m\u001b[0m\n\u001b[0m\u001b[0;32m   3205\u001b[0m \u001b[1;33m\u001b[0m\u001b[0m\n\u001b[0;32m   3206\u001b[0m         \u001b[1;32mif\u001b[0m \u001b[0mpath_or_buf\u001b[0m \u001b[1;32mis\u001b[0m \u001b[1;32mNone\u001b[0m\u001b[1;33m:\u001b[0m\u001b[1;33m\u001b[0m\u001b[0m\n",
      "\u001b[1;32mc:\\python35\\lib\\site-packages\\pandas\\io\\formats\\csvs.py\u001b[0m in \u001b[0;36msave\u001b[1;34m(self)\u001b[0m\n\u001b[0;32m    186\u001b[0m                 \u001b[0mself\u001b[0m\u001b[1;33m.\u001b[0m\u001b[0mmode\u001b[0m\u001b[1;33m,\u001b[0m\u001b[1;33m\u001b[0m\u001b[0m\n\u001b[0;32m    187\u001b[0m                 \u001b[0mencoding\u001b[0m\u001b[1;33m=\u001b[0m\u001b[0mself\u001b[0m\u001b[1;33m.\u001b[0m\u001b[0mencoding\u001b[0m\u001b[1;33m,\u001b[0m\u001b[1;33m\u001b[0m\u001b[0m\n\u001b[1;32m--> 188\u001b[1;33m                 \u001b[0mcompression\u001b[0m\u001b[1;33m=\u001b[0m\u001b[0mdict\u001b[0m\u001b[1;33m(\u001b[0m\u001b[0mself\u001b[0m\u001b[1;33m.\u001b[0m\u001b[0mcompression_args\u001b[0m\u001b[1;33m,\u001b[0m \u001b[0mmethod\u001b[0m\u001b[1;33m=\u001b[0m\u001b[0mself\u001b[0m\u001b[1;33m.\u001b[0m\u001b[0mcompression\u001b[0m\u001b[1;33m)\u001b[0m\u001b[1;33m,\u001b[0m\u001b[1;33m\u001b[0m\u001b[0m\n\u001b[0m\u001b[0;32m    189\u001b[0m             )\n\u001b[0;32m    190\u001b[0m             \u001b[0mclose\u001b[0m \u001b[1;33m=\u001b[0m \u001b[1;32mTrue\u001b[0m\u001b[1;33m\u001b[0m\u001b[0m\n",
      "\u001b[1;32mc:\\python35\\lib\\site-packages\\pandas\\io\\common.py\u001b[0m in \u001b[0;36mget_handle\u001b[1;34m(path_or_buf, mode, encoding, compression, memory_map, is_text)\u001b[0m\n\u001b[0;32m    426\u001b[0m         \u001b[1;32mif\u001b[0m \u001b[0mencoding\u001b[0m\u001b[1;33m:\u001b[0m\u001b[1;33m\u001b[0m\u001b[0m\n\u001b[0;32m    427\u001b[0m             \u001b[1;31m# Encoding\u001b[0m\u001b[1;33m\u001b[0m\u001b[1;33m\u001b[0m\u001b[0m\n\u001b[1;32m--> 428\u001b[1;33m             \u001b[0mf\u001b[0m \u001b[1;33m=\u001b[0m \u001b[0mopen\u001b[0m\u001b[1;33m(\u001b[0m\u001b[0mpath_or_buf\u001b[0m\u001b[1;33m,\u001b[0m \u001b[0mmode\u001b[0m\u001b[1;33m,\u001b[0m \u001b[0mencoding\u001b[0m\u001b[1;33m=\u001b[0m\u001b[0mencoding\u001b[0m\u001b[1;33m,\u001b[0m \u001b[0mnewline\u001b[0m\u001b[1;33m=\u001b[0m\u001b[1;34m\"\"\u001b[0m\u001b[1;33m)\u001b[0m\u001b[1;33m\u001b[0m\u001b[0m\n\u001b[0m\u001b[0;32m    429\u001b[0m         \u001b[1;32melif\u001b[0m \u001b[0mis_text\u001b[0m\u001b[1;33m:\u001b[0m\u001b[1;33m\u001b[0m\u001b[0m\n\u001b[0;32m    430\u001b[0m             \u001b[1;31m# No explicit encoding\u001b[0m\u001b[1;33m\u001b[0m\u001b[1;33m\u001b[0m\u001b[0m\n",
      "\u001b[1;31mPermissionError\u001b[0m: [Errno 13] Permission denied: 'final.csv'"
     ]
    }
   ],
   "source": [
    "df.to_csv('final.csv')"
   ]
  },
  {
   "cell_type": "markdown",
   "metadata": {},
   "source": [
    "# Model Building"
   ]
  },
  {
   "cell_type": "code",
   "execution_count": 8,
   "metadata": {},
   "outputs": [],
   "source": [
    "data = pd.read_csv('final.csv')"
   ]
  },
  {
   "cell_type": "code",
   "execution_count": 9,
   "metadata": {},
   "outputs": [],
   "source": [
    "df_s = data[['Python (out of 3)','R Programming (out of 3)','Data Science (out of 3)','Current Year Of Graduation','skillsown','Approval']]"
   ]
  },
  {
   "cell_type": "code",
   "execution_count": 10,
   "metadata": {},
   "outputs": [
    {
     "data": {
      "text/html": [
       "<div>\n",
       "<style scoped>\n",
       "    .dataframe tbody tr th:only-of-type {\n",
       "        vertical-align: middle;\n",
       "    }\n",
       "\n",
       "    .dataframe tbody tr th {\n",
       "        vertical-align: top;\n",
       "    }\n",
       "\n",
       "    .dataframe thead th {\n",
       "        text-align: right;\n",
       "    }\n",
       "</style>\n",
       "<table border=\"1\" class=\"dataframe\">\n",
       "  <thead>\n",
       "    <tr style=\"text-align: right;\">\n",
       "      <th></th>\n",
       "      <th>Python (out of 3)</th>\n",
       "      <th>R Programming (out of 3)</th>\n",
       "      <th>Data Science (out of 3)</th>\n",
       "      <th>Current Year Of Graduation</th>\n",
       "      <th>skillsown</th>\n",
       "      <th>Approval</th>\n",
       "    </tr>\n",
       "  </thead>\n",
       "  <tbody>\n",
       "    <tr>\n",
       "      <th>0</th>\n",
       "      <td>1</td>\n",
       "      <td>0</td>\n",
       "      <td>3</td>\n",
       "      <td>2019</td>\n",
       "      <td>6</td>\n",
       "      <td>No</td>\n",
       "    </tr>\n",
       "    <tr>\n",
       "      <th>1</th>\n",
       "      <td>2</td>\n",
       "      <td>1</td>\n",
       "      <td>2</td>\n",
       "      <td>2020</td>\n",
       "      <td>9</td>\n",
       "      <td>No</td>\n",
       "    </tr>\n",
       "    <tr>\n",
       "      <th>2</th>\n",
       "      <td>2</td>\n",
       "      <td>0</td>\n",
       "      <td>0</td>\n",
       "      <td>2018</td>\n",
       "      <td>0</td>\n",
       "      <td>No</td>\n",
       "    </tr>\n",
       "    <tr>\n",
       "      <th>3</th>\n",
       "      <td>2</td>\n",
       "      <td>0</td>\n",
       "      <td>2</td>\n",
       "      <td>2021</td>\n",
       "      <td>12</td>\n",
       "      <td>No</td>\n",
       "    </tr>\n",
       "    <tr>\n",
       "      <th>4</th>\n",
       "      <td>2</td>\n",
       "      <td>0</td>\n",
       "      <td>0</td>\n",
       "      <td>2018</td>\n",
       "      <td>6</td>\n",
       "      <td>No</td>\n",
       "    </tr>\n",
       "  </tbody>\n",
       "</table>\n",
       "</div>"
      ],
      "text/plain": [
       "   Python (out of 3)  R Programming (out of 3)  Data Science (out of 3)  \\\n",
       "0                  1                         0                        3   \n",
       "1                  2                         1                        2   \n",
       "2                  2                         0                        0   \n",
       "3                  2                         0                        2   \n",
       "4                  2                         0                        0   \n",
       "\n",
       "   Current Year Of Graduation  skillsown Approval  \n",
       "0                        2019          6       No  \n",
       "1                        2020          9       No  \n",
       "2                        2018          0       No  \n",
       "3                        2021         12       No  \n",
       "4                        2018          6       No  "
      ]
     },
     "execution_count": 10,
     "metadata": {},
     "output_type": "execute_result"
    }
   ],
   "source": [
    "df_s.head()"
   ]
  },
  {
   "cell_type": "code",
   "execution_count": 11,
   "metadata": {},
   "outputs": [],
   "source": [
    "from sklearn.preprocessing import MinMaxScaler\n",
    "from sklearn.model_selection import train_test_split\n",
    "from sklearn.tree import DecisionTreeClassifier\n",
    "from sklearn.ensemble import RandomForestClassifier\n",
    "from sklearn.model_selection import GridSearchCV\n",
    "from sklearn.utils import resample"
   ]
  },
  {
   "cell_type": "markdown",
   "metadata": {},
   "source": [
    "## Data Pre processing"
   ]
  },
  {
   "cell_type": "code",
   "execution_count": 12,
   "metadata": {},
   "outputs": [
    {
     "data": {
      "text/plain": [
       "Index(['Python (out of 3)', 'R Programming (out of 3)',\n",
       "       'Data Science (out of 3)', 'Current Year Of Graduation', 'skillsown',\n",
       "       'Approval'],\n",
       "      dtype='object')"
      ]
     },
     "execution_count": 12,
     "metadata": {},
     "output_type": "execute_result"
    }
   ],
   "source": [
    "df_s.columns[:]"
   ]
  },
  {
   "cell_type": "code",
   "execution_count": 13,
   "metadata": {},
   "outputs": [],
   "source": [
    "df_dummy = pd.get_dummies(df_s, columns=df_s.columns[:-1])"
   ]
  },
  {
   "cell_type": "code",
   "execution_count": 14,
   "metadata": {},
   "outputs": [],
   "source": [
    "df_dummy['Approval'] = df_s.Approval"
   ]
  },
  {
   "cell_type": "code",
   "execution_count": 15,
   "metadata": {},
   "outputs": [
    {
     "data": {
      "text/html": [
       "<div>\n",
       "<style scoped>\n",
       "    .dataframe tbody tr th:only-of-type {\n",
       "        vertical-align: middle;\n",
       "    }\n",
       "\n",
       "    .dataframe tbody tr th {\n",
       "        vertical-align: top;\n",
       "    }\n",
       "\n",
       "    .dataframe thead th {\n",
       "        text-align: right;\n",
       "    }\n",
       "</style>\n",
       "<table border=\"1\" class=\"dataframe\">\n",
       "  <thead>\n",
       "    <tr style=\"text-align: right;\">\n",
       "      <th></th>\n",
       "      <th>Approval</th>\n",
       "      <th>Python (out of 3)_0</th>\n",
       "      <th>Python (out of 3)_1</th>\n",
       "      <th>Python (out of 3)_2</th>\n",
       "      <th>Python (out of 3)_3</th>\n",
       "      <th>R Programming (out of 3)_0</th>\n",
       "      <th>R Programming (out of 3)_1</th>\n",
       "      <th>R Programming (out of 3)_2</th>\n",
       "      <th>R Programming (out of 3)_3</th>\n",
       "      <th>Data Science (out of 3)_0</th>\n",
       "      <th>...</th>\n",
       "      <th>Current Year Of Graduation_2021</th>\n",
       "      <th>Current Year Of Graduation_2022</th>\n",
       "      <th>Current Year Of Graduation_2023</th>\n",
       "      <th>skillsown_0</th>\n",
       "      <th>skillsown_3</th>\n",
       "      <th>skillsown_6</th>\n",
       "      <th>skillsown_9</th>\n",
       "      <th>skillsown_12</th>\n",
       "      <th>skillsown_15</th>\n",
       "      <th>skillsown_18</th>\n",
       "    </tr>\n",
       "  </thead>\n",
       "  <tbody>\n",
       "    <tr>\n",
       "      <th>0</th>\n",
       "      <td>No</td>\n",
       "      <td>0</td>\n",
       "      <td>1</td>\n",
       "      <td>0</td>\n",
       "      <td>0</td>\n",
       "      <td>1</td>\n",
       "      <td>0</td>\n",
       "      <td>0</td>\n",
       "      <td>0</td>\n",
       "      <td>0</td>\n",
       "      <td>...</td>\n",
       "      <td>0</td>\n",
       "      <td>0</td>\n",
       "      <td>0</td>\n",
       "      <td>0</td>\n",
       "      <td>0</td>\n",
       "      <td>1</td>\n",
       "      <td>0</td>\n",
       "      <td>0</td>\n",
       "      <td>0</td>\n",
       "      <td>0</td>\n",
       "    </tr>\n",
       "    <tr>\n",
       "      <th>1</th>\n",
       "      <td>No</td>\n",
       "      <td>0</td>\n",
       "      <td>0</td>\n",
       "      <td>1</td>\n",
       "      <td>0</td>\n",
       "      <td>0</td>\n",
       "      <td>1</td>\n",
       "      <td>0</td>\n",
       "      <td>0</td>\n",
       "      <td>0</td>\n",
       "      <td>...</td>\n",
       "      <td>0</td>\n",
       "      <td>0</td>\n",
       "      <td>0</td>\n",
       "      <td>0</td>\n",
       "      <td>0</td>\n",
       "      <td>0</td>\n",
       "      <td>1</td>\n",
       "      <td>0</td>\n",
       "      <td>0</td>\n",
       "      <td>0</td>\n",
       "    </tr>\n",
       "    <tr>\n",
       "      <th>2</th>\n",
       "      <td>No</td>\n",
       "      <td>0</td>\n",
       "      <td>0</td>\n",
       "      <td>1</td>\n",
       "      <td>0</td>\n",
       "      <td>1</td>\n",
       "      <td>0</td>\n",
       "      <td>0</td>\n",
       "      <td>0</td>\n",
       "      <td>1</td>\n",
       "      <td>...</td>\n",
       "      <td>0</td>\n",
       "      <td>0</td>\n",
       "      <td>0</td>\n",
       "      <td>1</td>\n",
       "      <td>0</td>\n",
       "      <td>0</td>\n",
       "      <td>0</td>\n",
       "      <td>0</td>\n",
       "      <td>0</td>\n",
       "      <td>0</td>\n",
       "    </tr>\n",
       "    <tr>\n",
       "      <th>3</th>\n",
       "      <td>No</td>\n",
       "      <td>0</td>\n",
       "      <td>0</td>\n",
       "      <td>1</td>\n",
       "      <td>0</td>\n",
       "      <td>1</td>\n",
       "      <td>0</td>\n",
       "      <td>0</td>\n",
       "      <td>0</td>\n",
       "      <td>0</td>\n",
       "      <td>...</td>\n",
       "      <td>1</td>\n",
       "      <td>0</td>\n",
       "      <td>0</td>\n",
       "      <td>0</td>\n",
       "      <td>0</td>\n",
       "      <td>0</td>\n",
       "      <td>0</td>\n",
       "      <td>1</td>\n",
       "      <td>0</td>\n",
       "      <td>0</td>\n",
       "    </tr>\n",
       "    <tr>\n",
       "      <th>4</th>\n",
       "      <td>No</td>\n",
       "      <td>0</td>\n",
       "      <td>0</td>\n",
       "      <td>1</td>\n",
       "      <td>0</td>\n",
       "      <td>1</td>\n",
       "      <td>0</td>\n",
       "      <td>0</td>\n",
       "      <td>0</td>\n",
       "      <td>1</td>\n",
       "      <td>...</td>\n",
       "      <td>0</td>\n",
       "      <td>0</td>\n",
       "      <td>0</td>\n",
       "      <td>0</td>\n",
       "      <td>0</td>\n",
       "      <td>1</td>\n",
       "      <td>0</td>\n",
       "      <td>0</td>\n",
       "      <td>0</td>\n",
       "      <td>0</td>\n",
       "    </tr>\n",
       "  </tbody>\n",
       "</table>\n",
       "<p>5 rows × 39 columns</p>\n",
       "</div>"
      ],
      "text/plain": [
       "  Approval  Python (out of 3)_0  Python (out of 3)_1  Python (out of 3)_2  \\\n",
       "0       No                    0                    1                    0   \n",
       "1       No                    0                    0                    1   \n",
       "2       No                    0                    0                    1   \n",
       "3       No                    0                    0                    1   \n",
       "4       No                    0                    0                    1   \n",
       "\n",
       "   Python (out of 3)_3  R Programming (out of 3)_0  \\\n",
       "0                    0                           1   \n",
       "1                    0                           0   \n",
       "2                    0                           1   \n",
       "3                    0                           1   \n",
       "4                    0                           1   \n",
       "\n",
       "   R Programming (out of 3)_1  R Programming (out of 3)_2  \\\n",
       "0                           0                           0   \n",
       "1                           1                           0   \n",
       "2                           0                           0   \n",
       "3                           0                           0   \n",
       "4                           0                           0   \n",
       "\n",
       "   R Programming (out of 3)_3  Data Science (out of 3)_0  ...  \\\n",
       "0                           0                          0  ...   \n",
       "1                           0                          0  ...   \n",
       "2                           0                          1  ...   \n",
       "3                           0                          0  ...   \n",
       "4                           0                          1  ...   \n",
       "\n",
       "   Current Year Of Graduation_2021  Current Year Of Graduation_2022  \\\n",
       "0                                0                                0   \n",
       "1                                0                                0   \n",
       "2                                0                                0   \n",
       "3                                1                                0   \n",
       "4                                0                                0   \n",
       "\n",
       "   Current Year Of Graduation_2023  skillsown_0  skillsown_3  skillsown_6  \\\n",
       "0                                0            0            0            1   \n",
       "1                                0            0            0            0   \n",
       "2                                0            1            0            0   \n",
       "3                                0            0            0            0   \n",
       "4                                0            0            0            1   \n",
       "\n",
       "   skillsown_9  skillsown_12  skillsown_15  skillsown_18  \n",
       "0            0             0             0             0  \n",
       "1            1             0             0             0  \n",
       "2            0             0             0             0  \n",
       "3            0             1             0             0  \n",
       "4            0             0             0             0  \n",
       "\n",
       "[5 rows x 39 columns]"
      ]
     },
     "execution_count": 15,
     "metadata": {},
     "output_type": "execute_result"
    }
   ],
   "source": [
    "df_dummy.head()"
   ]
  },
  {
   "cell_type": "code",
   "execution_count": 16,
   "metadata": {},
   "outputs": [
    {
     "data": {
      "text/plain": [
       "No     567\n",
       "Yes     44\n",
       "Name: Approval, dtype: int64"
      ]
     },
     "execution_count": 16,
     "metadata": {},
     "output_type": "execute_result"
    }
   ],
   "source": [
    "df_dummy.Approval.value_counts()"
   ]
  },
  {
   "cell_type": "markdown",
   "metadata": {},
   "source": [
    "### Balancing the data"
   ]
  },
  {
   "cell_type": "code",
   "execution_count": 17,
   "metadata": {},
   "outputs": [],
   "source": [
    "df_majority = df_dummy[df_dummy.Approval=='No']\n",
    "df_minority = df_dummy[df_dummy.Approval=='Yes']\n",
    "df_minority_upsampled = resample(df_minority, \n",
    "                                 replace=True,     # sample with replacement\n",
    "                                 n_samples=567,    # to match majority class\n",
    "                                 random_state=101) # reproducible results\n",
    "df_balance = pd.concat([df_majority, df_minority_upsampled])"
   ]
  },
  {
   "cell_type": "code",
   "execution_count": 18,
   "metadata": {},
   "outputs": [
    {
     "data": {
      "text/plain": [
       "Yes    567\n",
       "No     567\n",
       "Name: Approval, dtype: int64"
      ]
     },
     "execution_count": 18,
     "metadata": {},
     "output_type": "execute_result"
    }
   ],
   "source": [
    "df_balance.Approval.value_counts()"
   ]
  },
  {
   "cell_type": "code",
   "execution_count": 19,
   "metadata": {},
   "outputs": [
    {
     "data": {
      "text/html": [
       "<div>\n",
       "<style scoped>\n",
       "    .dataframe tbody tr th:only-of-type {\n",
       "        vertical-align: middle;\n",
       "    }\n",
       "\n",
       "    .dataframe tbody tr th {\n",
       "        vertical-align: top;\n",
       "    }\n",
       "\n",
       "    .dataframe thead th {\n",
       "        text-align: right;\n",
       "    }\n",
       "</style>\n",
       "<table border=\"1\" class=\"dataframe\">\n",
       "  <thead>\n",
       "    <tr style=\"text-align: right;\">\n",
       "      <th></th>\n",
       "      <th>Approval</th>\n",
       "      <th>Python (out of 3)_0</th>\n",
       "      <th>Python (out of 3)_1</th>\n",
       "      <th>Python (out of 3)_2</th>\n",
       "      <th>Python (out of 3)_3</th>\n",
       "      <th>R Programming (out of 3)_0</th>\n",
       "      <th>R Programming (out of 3)_1</th>\n",
       "      <th>R Programming (out of 3)_2</th>\n",
       "      <th>R Programming (out of 3)_3</th>\n",
       "      <th>Data Science (out of 3)_0</th>\n",
       "      <th>...</th>\n",
       "      <th>Current Year Of Graduation_2021</th>\n",
       "      <th>Current Year Of Graduation_2022</th>\n",
       "      <th>Current Year Of Graduation_2023</th>\n",
       "      <th>skillsown_0</th>\n",
       "      <th>skillsown_3</th>\n",
       "      <th>skillsown_6</th>\n",
       "      <th>skillsown_9</th>\n",
       "      <th>skillsown_12</th>\n",
       "      <th>skillsown_15</th>\n",
       "      <th>skillsown_18</th>\n",
       "    </tr>\n",
       "  </thead>\n",
       "  <tbody>\n",
       "    <tr>\n",
       "      <th>0</th>\n",
       "      <td>No</td>\n",
       "      <td>0</td>\n",
       "      <td>1</td>\n",
       "      <td>0</td>\n",
       "      <td>0</td>\n",
       "      <td>1</td>\n",
       "      <td>0</td>\n",
       "      <td>0</td>\n",
       "      <td>0</td>\n",
       "      <td>0</td>\n",
       "      <td>...</td>\n",
       "      <td>0</td>\n",
       "      <td>0</td>\n",
       "      <td>0</td>\n",
       "      <td>0</td>\n",
       "      <td>0</td>\n",
       "      <td>1</td>\n",
       "      <td>0</td>\n",
       "      <td>0</td>\n",
       "      <td>0</td>\n",
       "      <td>0</td>\n",
       "    </tr>\n",
       "    <tr>\n",
       "      <th>1</th>\n",
       "      <td>No</td>\n",
       "      <td>0</td>\n",
       "      <td>0</td>\n",
       "      <td>1</td>\n",
       "      <td>0</td>\n",
       "      <td>0</td>\n",
       "      <td>1</td>\n",
       "      <td>0</td>\n",
       "      <td>0</td>\n",
       "      <td>0</td>\n",
       "      <td>...</td>\n",
       "      <td>0</td>\n",
       "      <td>0</td>\n",
       "      <td>0</td>\n",
       "      <td>0</td>\n",
       "      <td>0</td>\n",
       "      <td>0</td>\n",
       "      <td>1</td>\n",
       "      <td>0</td>\n",
       "      <td>0</td>\n",
       "      <td>0</td>\n",
       "    </tr>\n",
       "    <tr>\n",
       "      <th>2</th>\n",
       "      <td>No</td>\n",
       "      <td>0</td>\n",
       "      <td>0</td>\n",
       "      <td>1</td>\n",
       "      <td>0</td>\n",
       "      <td>1</td>\n",
       "      <td>0</td>\n",
       "      <td>0</td>\n",
       "      <td>0</td>\n",
       "      <td>1</td>\n",
       "      <td>...</td>\n",
       "      <td>0</td>\n",
       "      <td>0</td>\n",
       "      <td>0</td>\n",
       "      <td>1</td>\n",
       "      <td>0</td>\n",
       "      <td>0</td>\n",
       "      <td>0</td>\n",
       "      <td>0</td>\n",
       "      <td>0</td>\n",
       "      <td>0</td>\n",
       "    </tr>\n",
       "    <tr>\n",
       "      <th>3</th>\n",
       "      <td>No</td>\n",
       "      <td>0</td>\n",
       "      <td>0</td>\n",
       "      <td>1</td>\n",
       "      <td>0</td>\n",
       "      <td>1</td>\n",
       "      <td>0</td>\n",
       "      <td>0</td>\n",
       "      <td>0</td>\n",
       "      <td>0</td>\n",
       "      <td>...</td>\n",
       "      <td>1</td>\n",
       "      <td>0</td>\n",
       "      <td>0</td>\n",
       "      <td>0</td>\n",
       "      <td>0</td>\n",
       "      <td>0</td>\n",
       "      <td>0</td>\n",
       "      <td>1</td>\n",
       "      <td>0</td>\n",
       "      <td>0</td>\n",
       "    </tr>\n",
       "    <tr>\n",
       "      <th>4</th>\n",
       "      <td>No</td>\n",
       "      <td>0</td>\n",
       "      <td>0</td>\n",
       "      <td>1</td>\n",
       "      <td>0</td>\n",
       "      <td>1</td>\n",
       "      <td>0</td>\n",
       "      <td>0</td>\n",
       "      <td>0</td>\n",
       "      <td>1</td>\n",
       "      <td>...</td>\n",
       "      <td>0</td>\n",
       "      <td>0</td>\n",
       "      <td>0</td>\n",
       "      <td>0</td>\n",
       "      <td>0</td>\n",
       "      <td>1</td>\n",
       "      <td>0</td>\n",
       "      <td>0</td>\n",
       "      <td>0</td>\n",
       "      <td>0</td>\n",
       "    </tr>\n",
       "  </tbody>\n",
       "</table>\n",
       "<p>5 rows × 39 columns</p>\n",
       "</div>"
      ],
      "text/plain": [
       "  Approval  Python (out of 3)_0  Python (out of 3)_1  Python (out of 3)_2  \\\n",
       "0       No                    0                    1                    0   \n",
       "1       No                    0                    0                    1   \n",
       "2       No                    0                    0                    1   \n",
       "3       No                    0                    0                    1   \n",
       "4       No                    0                    0                    1   \n",
       "\n",
       "   Python (out of 3)_3  R Programming (out of 3)_0  \\\n",
       "0                    0                           1   \n",
       "1                    0                           0   \n",
       "2                    0                           1   \n",
       "3                    0                           1   \n",
       "4                    0                           1   \n",
       "\n",
       "   R Programming (out of 3)_1  R Programming (out of 3)_2  \\\n",
       "0                           0                           0   \n",
       "1                           1                           0   \n",
       "2                           0                           0   \n",
       "3                           0                           0   \n",
       "4                           0                           0   \n",
       "\n",
       "   R Programming (out of 3)_3  Data Science (out of 3)_0  ...  \\\n",
       "0                           0                          0  ...   \n",
       "1                           0                          0  ...   \n",
       "2                           0                          1  ...   \n",
       "3                           0                          0  ...   \n",
       "4                           0                          1  ...   \n",
       "\n",
       "   Current Year Of Graduation_2021  Current Year Of Graduation_2022  \\\n",
       "0                                0                                0   \n",
       "1                                0                                0   \n",
       "2                                0                                0   \n",
       "3                                1                                0   \n",
       "4                                0                                0   \n",
       "\n",
       "   Current Year Of Graduation_2023  skillsown_0  skillsown_3  skillsown_6  \\\n",
       "0                                0            0            0            1   \n",
       "1                                0            0            0            0   \n",
       "2                                0            1            0            0   \n",
       "3                                0            0            0            0   \n",
       "4                                0            0            0            1   \n",
       "\n",
       "   skillsown_9  skillsown_12  skillsown_15  skillsown_18  \n",
       "0            0             0             0             0  \n",
       "1            1             0             0             0  \n",
       "2            0             0             0             0  \n",
       "3            0             1             0             0  \n",
       "4            0             0             0             0  \n",
       "\n",
       "[5 rows x 39 columns]"
      ]
     },
     "execution_count": 19,
     "metadata": {},
     "output_type": "execute_result"
    }
   ],
   "source": [
    "df_balance"
   ]
  },
  {
   "cell_type": "code",
   "execution_count": 20,
   "metadata": {},
   "outputs": [],
   "source": [
    "df_balance.to_csv('final_dummify_balanced_data.csv')"
   ]
  },
  {
   "cell_type": "code",
   "execution_count": null,
   "metadata": {},
   "outputs": [],
   "source": []
  },
  {
   "cell_type": "markdown",
   "metadata": {},
   "source": [
    "## Modeling Part"
   ]
  },
  {
   "cell_type": "code",
   "execution_count": 21,
   "metadata": {},
   "outputs": [],
   "source": [
    "xtr,xte,ytr,yte = train_test_split(df_balance[df_balance.columns[1:]],df_balance['Approval'],test_size=0.3,random_state=101)"
   ]
  },
  {
   "cell_type": "code",
   "execution_count": 22,
   "metadata": {},
   "outputs": [],
   "source": [
    "xtr_o,xte_o,ytr_o,yte_o = train_test_split(df_dummy[df_dummy.columns[1:]],df_dummy['Approval'],test_size=0.3,random_state=101)"
   ]
  },
  {
   "cell_type": "code",
   "execution_count": 23,
   "metadata": {},
   "outputs": [
    {
     "data": {
      "text/plain": [
       "((427, 38), (184, 38))"
      ]
     },
     "execution_count": 23,
     "metadata": {},
     "output_type": "execute_result"
    }
   ],
   "source": [
    "xtr_o.shape,xte_o.shape"
   ]
  },
  {
   "cell_type": "code",
   "execution_count": 24,
   "metadata": {},
   "outputs": [
    {
     "data": {
      "text/plain": [
       "((793, 38), (341, 38))"
      ]
     },
     "execution_count": 24,
     "metadata": {},
     "output_type": "execute_result"
    }
   ],
   "source": [
    "xtr.shape,xte.shape"
   ]
  },
  {
   "cell_type": "markdown",
   "metadata": {},
   "source": [
    "### Decission Tree"
   ]
  },
  {
   "cell_type": "code",
   "execution_count": 25,
   "metadata": {},
   "outputs": [
    {
     "data": {
      "application/vnd.jupyter.widget-view+json": {
       "model_id": "ff6a2a3dc8ee4cf89cfc1b25b14c3b8d",
       "version_major": 2,
       "version_minor": 0
      },
      "text/plain": [
       "interactive(children=(Dropdown(description='cri', options=('entropy', 'gini'), value='entropy'), Dropdown(desc…"
      ]
     },
     "metadata": {},
     "output_type": "display_data"
    },
    {
     "data": {
      "text/plain": [
       "<function __main__.treebuild(cri, mxd, minsl, rs, spl)>"
      ]
     },
     "execution_count": 25,
     "metadata": {},
     "output_type": "execute_result"
    }
   ],
   "source": [
    "def treebuild(cri,mxd,minsl,rs,spl):\n",
    "    Approve_Tree = DecisionTreeClassifier(criterion=cri,max_depth=mxd,min_samples_leaf=minsl,random_state=rs,splitter=spl)\n",
    "    Approve_Tree.fit(xtr,ytr)\n",
    "    pred_bal = Approve_Tree.predict(xte)\n",
    "    pred_ = Approve_Tree.predict(xte_o)\n",
    "    prr_bal = Approve_Tree.predict(xtr)\n",
    "    prr_ = Approve_Tree.predict(xtr_o)\n",
    "    print(len(yte),len(pred_))\n",
    "    print(\"Test Accuracy original Data\",np.mean(yte_o==pred_))\n",
    "    \n",
    "    print(\"Train Accuracy Original Data\",np.mean(ytr_o==prr_))\n",
    "    print (\"Test Accuracy Balanced Data\",np.mean(yte==pred_bal))\n",
    "#     print(classification_report(Y_test_lab_bal,pred_bal))\n",
    "    print(\"Train Accuracy Balanced Data\",np.mean(ytr==prr_bal))\n",
    "    print(classification_report(yte_o,pred_))\n",
    "interact(treebuild,cri=['entropy','gini'],mxd=[i for i in range(1,20)],minsl=[i for i in range(1,10)],rs=[i for i in  range(30)],spl=['best','random'])"
   ]
  },
  {
   "cell_type": "code",
   "execution_count": 26,
   "metadata": {},
   "outputs": [],
   "source": [
    "## final model"
   ]
  },
  {
   "cell_type": "code",
   "execution_count": 27,
   "metadata": {},
   "outputs": [
    {
     "name": "stdout",
     "output_type": "stream",
     "text": [
      "341 184\n",
      "Test Accuracy original Data 0.9945652173913043\n",
      "Train Accuracy Original Data 0.9976580796252927\n",
      "Test Accuracy Balanced Data 0.9970674486803519\n",
      "Train Accuracy Balanced Data 0.9987389659520807\n",
      "              precision    recall  f1-score   support\n",
      "\n",
      "          No       1.00      0.99      1.00       172\n",
      "         Yes       0.92      1.00      0.96        12\n",
      "\n",
      "   micro avg       0.99      0.99      0.99       184\n",
      "   macro avg       0.96      1.00      0.98       184\n",
      "weighted avg       0.99      0.99      0.99       184\n",
      "\n"
     ]
    }
   ],
   "source": [
    "Approve_Tree_final = DecisionTreeClassifier(criterion='entropy',max_depth=10,min_samples_leaf=1,random_state=4,splitter='random')\n",
    "Approve_Tree_final.fit(xtr,ytr)\n",
    "pred_bal = Approve_Tree_final.predict(xte)\n",
    "pred_ = Approve_Tree_final.predict(xte_o)\n",
    "prr_bal = Approve_Tree_final.predict(xtr)\n",
    "prr_ = Approve_Tree_final.predict(xtr_o)\n",
    "print(len(yte),len(pred_))\n",
    "print(\"Test Accuracy original Data\",np.mean(yte_o==pred_))\n",
    "\n",
    "print(\"Train Accuracy Original Data\",np.mean(ytr_o==prr_))\n",
    "print (\"Test Accuracy Balanced Data\",np.mean(yte==pred_bal))\n",
    "print(\"Train Accuracy Balanced Data\",np.mean(ytr==prr_bal))\n",
    "print(classification_report(yte_o,pred_))"
   ]
  },
  {
   "cell_type": "code",
   "execution_count": 28,
   "metadata": {},
   "outputs": [
    {
     "name": "stdout",
     "output_type": "stream",
     "text": [
      "['Yes']\n"
     ]
    }
   ],
   "source": [
    "Approve_Tree_final = DecisionTreeClassifier(criterion='entropy',max_depth=10,min_samples_leaf=1,random_state=4,splitter='random')\n",
    "Approve_Tree_final.fit(xtr.values,ytr.values)\n",
    "pred_bal = Approve_Tree_final.predict([xte.values[1]])\n",
    "print(pred_bal)"
   ]
  },
  {
   "cell_type": "code",
   "execution_count": 29,
   "metadata": {},
   "outputs": [],
   "source": [
    "def modeldtree(xtr,ytr,xte):\n",
    "    Approve_Tree_final = DecisionTreeClassifier(criterion='entropy',max_depth=10,min_samples_leaf=1,random_state=4,splitter='random')\n",
    "    Approve_Tree_final.fit(xtr.values,ytr.values)\n",
    "    pred_ = Approve_Tree_final.predict(xte)\n",
    "    return pred_ "
   ]
  },
  {
   "cell_type": "code",
   "execution_count": null,
   "metadata": {},
   "outputs": [],
   "source": [
    "modeldtree(xtr,ytr,xte.values)"
   ]
  },
  {
   "cell_type": "code",
   "execution_count": null,
   "metadata": {},
   "outputs": [],
   "source": [
    "df_s.columns"
   ]
  },
  {
   "cell_type": "code",
   "execution_count": null,
   "metadata": {},
   "outputs": [],
   "source": [
    "A = {'Python (out of 3)':1, 'R Programming (out of 3)':2,\n",
    "       'Data Science (out of 3)':3, 'Current Year Of Graduation':2019, 'skillsown':9,\n",
    "       'Approval':'No'}\n",
    "A = pd.Series(A)"
   ]
  },
  {
   "cell_type": "code",
   "execution_count": null,
   "metadata": {},
   "outputs": [],
   "source": [
    "A"
   ]
  },
  {
   "cell_type": "code",
   "execution_count": null,
   "metadata": {},
   "outputs": [],
   "source": [
    "pd.concat([df_s.head(),A],axis=0)"
   ]
  },
  {
   "cell_type": "code",
   "execution_count": null,
   "metadata": {},
   "outputs": [],
   "source": [
    "df_s.iloc[-1]"
   ]
  },
  {
   "cell_type": "markdown",
   "metadata": {},
   "source": [
    "## Create pickel of final model"
   ]
  },
  {
   "cell_type": "code",
   "execution_count": null,
   "metadata": {},
   "outputs": [],
   "source": [
    "import pickle"
   ]
  },
  {
   "cell_type": "code",
   "execution_count": null,
   "metadata": {},
   "outputs": [],
   "source": [
    "pickle.dump(Approve_Tree_final, open(\"Approve_Tree_final\", 'wb'))"
   ]
  },
  {
   "cell_type": "code",
   "execution_count": null,
   "metadata": {},
   "outputs": [],
   "source": [
    "model = pickle.load(open(\"Approve_Tree_final\", 'rb'))"
   ]
  },
  {
   "cell_type": "code",
   "execution_count": null,
   "metadata": {},
   "outputs": [],
   "source": [
    "[xte.values[1]]"
   ]
  },
  {
   "cell_type": "code",
   "execution_count": null,
   "metadata": {},
   "outputs": [],
   "source": [
    "if model.predict([xte.values[1]])==\"Yes\" :\n",
    "    print(\"Approved\")"
   ]
  },
  {
   "cell_type": "code",
   "execution_count": null,
   "metadata": {},
   "outputs": [],
   "source": []
  }
 ],
 "metadata": {
  "kernelspec": {
   "display_name": "Python 3",
   "language": "python",
   "name": "python3"
  },
  "language_info": {
   "codemirror_mode": {
    "name": "ipython",
    "version": 3
   },
   "file_extension": ".py",
   "mimetype": "text/x-python",
   "name": "python",
   "nbconvert_exporter": "python",
   "pygments_lexer": "ipython3",
   "version": "3.6.5"
  }
 },
 "nbformat": 4,
 "nbformat_minor": 4
}
